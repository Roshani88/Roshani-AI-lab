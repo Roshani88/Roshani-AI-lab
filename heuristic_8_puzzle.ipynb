{
  "nbformat": 4,
  "nbformat_minor": 0,
  "metadata": {
    "colab": {
      "provenance": [],
      "include_colab_link": true
    },
    "kernelspec": {
      "name": "python3",
      "display_name": "Python 3"
    },
    "language_info": {
      "name": "python"
    }
  },
  "cells": [
    {
      "cell_type": "markdown",
      "metadata": {
        "id": "view-in-github",
        "colab_type": "text"
      },
      "source": [
        "<a href=\"https://colab.research.google.com/github/Roshani88/Roshani-AI-lab/blob/main/heuristic_8_puzzle.ipynb\" target=\"_parent\"><img src=\"https://colab.research.google.com/assets/colab-badge.svg\" alt=\"Open In Colab\"/></a>"
      ]
    },
    {
      "cell_type": "markdown",
      "source": [],
      "metadata": {
        "id": "QXhsBTn2Uwhg"
      }
    },
    {
      "cell_type": "code",
      "execution_count": null,
      "metadata": {
        "colab": {
          "base_uri": "https://localhost:8080/"
        },
        "id": "x0ImqWQgKdWw",
        "outputId": "b800f9de-c151-47d5-e3ad-bfa5a5233386"
      },
      "outputs": [
        {
          "output_type": "stream",
          "name": "stdout",
          "text": [
            "Misplaced Tiles Heuristic Value: 3\n",
            "Manhattan Distance Heuristic Value: 3\n"
          ]
        }
      ],
      "source": [
        "def misplaced_tiles_heuristic(state, goal):\n",
        "    \"\"\"\n",
        "    Calculate the number of misplaced tiles compared to the goal state.\n",
        "\n",
        "    :param state: List representing the current puzzle state.\n",
        "    :param goal: List representing the goal puzzle state.\n",
        "    :return: Integer count of misplaced tiles.\n",
        "    \"\"\"\n",
        "    return sum(1 for s, g in zip(state, goal) if s != 0 and s != g)\n",
        "\n",
        "def manhattan_distance_heuristic(state, goal):\n",
        "    \"\"\"\n",
        "    Calculate the Manhattan distance heuristic for the 8-puzzle.\n",
        "\n",
        "    :param state: List representing the current puzzle state.\n",
        "    :param goal: List representing the goal puzzle state.\n",
        "    :return: Integer total Manhattan distance.\n",
        "    \"\"\"\n",
        "    total_distance = 0\n",
        "    for tile in range(1, 9):  # Exclude the empty tile (0)\n",
        "        current_index = state.index(tile)\n",
        "        goal_index = goal.index(tile)\n",
        "\n",
        "        current_row, current_col = divmod(current_index, 3)\n",
        "        goal_row, goal_col = divmod(goal_index, 3)\n",
        "\n",
        "        total_distance += abs(current_row - goal_row) + abs(current_col - goal_col)\n",
        "\n",
        "    return total_distance\n",
        "\n",
        "# Example usage\n",
        "initial_state = [1, 2, 3, 0, 4, 6, 7, 5, 8]  # 0 represents the empty tile\n",
        "goal_state = [1, 2, 3, 4, 5, 6, 7, 8, 0]\n",
        "\n",
        "misplaced_heuristic_value = misplaced_tiles_heuristic(initial_state, goal_state)\n",
        "manhattan_heuristic_value = manhattan_distance_heuristic(initial_state, goal_state)\n",
        "\n",
        "print(\"Misplaced Tiles Heuristic Value:\", misplaced_heuristic_value)\n",
        "print(\"Manhattan Distance Heuristic Value:\", manhattan_heuristic_value)\n"
      ]
    }
  ]
}