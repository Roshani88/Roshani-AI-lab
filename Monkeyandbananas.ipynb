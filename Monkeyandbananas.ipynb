{
  "nbformat": 4,
  "nbformat_minor": 0,
  "metadata": {
    "colab": {
      "provenance": [],
      "include_colab_link": true
    },
    "kernelspec": {
      "name": "python3",
      "display_name": "Python 3"
    },
    "language_info": {
      "name": "python"
    }
  },
  "cells": [
    {
      "cell_type": "markdown",
      "metadata": {
        "id": "view-in-github",
        "colab_type": "text"
      },
      "source": [
        "<a href=\"https://colab.research.google.com/github/Roshani88/Roshani-AI-lab/blob/main/Monkeyandbananas.ipynb\" target=\"_parent\"><img src=\"https://colab.research.google.com/assets/colab-badge.svg\" alt=\"Open In Colab\"/></a>"
      ]
    },
    {
      "cell_type": "code",
      "execution_count": null,
      "metadata": {
        "colab": {
          "base_uri": "https://localhost:8080/"
        },
        "id": "4aMNepDx0ezN",
        "outputId": "03f94a6b-bb38-4f00-9720-66e96ad3bee5"
      },
      "outputs": [
        {
          "output_type": "stream",
          "name": "stdout",
          "text": [
            "Move from ('floor', 'random', False, False) to ('floor', 'under_banana', False, False)\n",
            "Move from ('floor', 'under_banana', False, False) to ('chair', 'under_banana', False, True)\n",
            "Move from ('chair', 'under_banana', False, True) to ('chair', 'under_banana', True, True)\n",
            "Goal Reached with state: ('chair', 'under_banana', True, True)\n"
          ]
        }
      ],
      "source": [
        "from collections import deque\n",
        "\n",
        "def get_successors(state):\n",
        "    successors = []\n",
        "    monkey, chair, has_banana, is_climbed = state\n",
        "\n",
        "    if has_banana:\n",
        "        return successors\n",
        "\n",
        "    if monkey == \"floor\" and not is_climbed:\n",
        "        successors.append((\"floor\", \"under_banana\", False, False))\n",
        "\n",
        "    if monkey == \"floor\" and chair == \"under_banana\" and not is_climbed:\n",
        "        successors.append((\"chair\", \"under_banana\", False, True))\n",
        "\n",
        "    if monkey == \"chair\" and chair == \"under_banana\" and is_climbed:\n",
        "        successors.append((\"chair\", \"under_banana\", True, True))\n",
        "\n",
        "    return successors\n",
        "\n",
        "def monkey_and_bananas():\n",
        "    initial_state = (\"floor\", \"random\", False, False)\n",
        "    goal_state = (\"chair\", \"under_banana\", True, True)\n",
        "    queue = deque([(initial_state, [])])\n",
        "    visited = set()\n",
        "\n",
        "    while queue:\n",
        "        current_state, actions = queue.popleft()\n",
        "\n",
        "        if current_state in visited:\n",
        "            continue\n",
        "\n",
        "        visited.add(current_state)\n",
        "\n",
        "        if current_state == goal_state:\n",
        "            return actions + [f\"Goal Reached with state: {current_state}\"]\n",
        "\n",
        "        for successor in get_successors(current_state):\n",
        "            action = f\"Move from {current_state} to {successor}\"\n",
        "            queue.append((successor, actions + [action]))\n",
        "\n",
        "    return \"No solution found\"\n",
        "\n",
        "solution = monkey_and_bananas()\n",
        "for step in solution:\n",
        "    print(step)\n"
      ]
    }
  ]
}