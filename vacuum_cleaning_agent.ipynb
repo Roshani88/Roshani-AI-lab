{
  "nbformat": 4,
  "nbformat_minor": 0,
  "metadata": {
    "colab": {
      "provenance": [],
      "include_colab_link": true
    },
    "kernelspec": {
      "name": "python3",
      "display_name": "Python 3"
    },
    "language_info": {
      "name": "python"
    }
  },
  "cells": [
    {
      "cell_type": "markdown",
      "metadata": {
        "id": "view-in-github",
        "colab_type": "text"
      },
      "source": [
        "<a href=\"https://colab.research.google.com/github/Roshani88/Roshani-AI-lab/blob/main/vacuum_cleaning_agent.ipynb\" target=\"_parent\"><img src=\"https://colab.research.google.com/assets/colab-badge.svg\" alt=\"Open In Colab\"/></a>"
      ]
    },
    {
      "cell_type": "code",
      "execution_count": null,
      "metadata": {
        "colab": {
          "base_uri": "https://localhost:8080/"
        },
        "id": "P9eiARKNFqRc",
        "outputId": "9d1f67a6-b85b-4496-8177-4d51f4a7f11d"
      },
      "outputs": [
        {
          "output_type": "stream",
          "name": "stdout",
          "text": [
            "Initial State: {'A': 'Dirty', 'B': 'Dirty'}\n",
            "Action: Cleaned room A, State: {'A': 'Clean', 'B': 'Dirty'}\n",
            "Action: Cleaned room B, State: {'A': 'Clean', 'B': 'Clean'}\n"
          ]
        }
      ],
      "source": [
        "class VacuumCleanerAgent:\n",
        "    def __init__(self):\n",
        "        self.room_status = {\"A\": \"Dirty\", \"B\": \"Dirty\"}\n",
        "\n",
        "    def perceive(self, location):\n",
        "        return self.room_status[location]\n",
        "\n",
        "    def act(self, location):\n",
        "        if self.perceive(location) == \"Dirty\":\n",
        "            self.room_status[location] = \"Clean\"\n",
        "            return f\"Cleaned room {location}\"\n",
        "        else:\n",
        "            return f\"Moved to the other room from {location}\"\n",
        "\n",
        "    def run(self):\n",
        "        location = \"A\"  # Start at room A\n",
        "        print(f\"Initial State: {self.room_status}\")\n",
        "        while \"Dirty\" in self.room_status.values():\n",
        "            action = self.act(location)\n",
        "            print(f\"Action: {action}, State: {self.room_status}\")\n",
        "            location = \"B\" if location == \"A\" else \"A\"\n",
        "\n",
        "agent = VacuumCleanerAgent()\n",
        "agent.run()\n",
        "\n",
        "\n"
      ]
    }
  ]
}