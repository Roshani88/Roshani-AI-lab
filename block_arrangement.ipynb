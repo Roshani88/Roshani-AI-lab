{
  "nbformat": 4,
  "nbformat_minor": 0,
  "metadata": {
    "colab": {
      "provenance": [],
      "include_colab_link": true
    },
    "kernelspec": {
      "name": "python3",
      "display_name": "Python 3"
    },
    "language_info": {
      "name": "python"
    }
  },
  "cells": [
    {
      "cell_type": "markdown",
      "metadata": {
        "id": "view-in-github",
        "colab_type": "text"
      },
      "source": [
        "<a href=\"https://colab.research.google.com/github/Roshani88/Roshani-AI-lab/blob/main/block_arrangement.ipynb\" target=\"_parent\"><img src=\"https://colab.research.google.com/assets/colab-badge.svg\" alt=\"Open In Colab\"/></a>"
      ]
    },
    {
      "cell_type": "code",
      "execution_count": null,
      "metadata": {
        "colab": {
          "base_uri": "https://localhost:8080/"
        },
        "id": "BvnCbIxQGqxz",
        "outputId": "007d5c4a-41a6-4df1-d83d-f296681ca1f6"
      },
      "outputs": [
        {
          "output_type": "stream",
          "name": "stdout",
          "text": [
            "State: ['D', 'C', 'B', 'A'], Moves: 1\n",
            "State: ['D', 'C', 'B', 'A'], Moves: 2\n",
            "State: ['D', 'B', 'C', 'A'], Moves: 3\n",
            "State: ['A', 'B', 'C', 'D'], Moves: 4\n"
          ]
        },
        {
          "output_type": "execute_result",
          "data": {
            "text/plain": [
              "4"
            ]
          },
          "metadata": {},
          "execution_count": 1
        }
      ],
      "source": [
        "# Heuristic for Block Arrangement Problem\n",
        "def block_heuristic(state, goal):\n",
        "    return sum(1 for i in range(len(state)) if state[i] != goal[i])\n",
        "\n",
        "def block_arrangement(initial, goal):\n",
        "    state = initial[:]\n",
        "    moves = 0\n",
        "    while state != goal:\n",
        "        for i in range(len(state)):\n",
        "            if state[i] != goal[i]:\n",
        "                state[i], state[state.index(goal[i])] = state[state.index(goal[i])], state[i]\n",
        "                moves += 1\n",
        "                print(f'State: {state}, Moves: {moves}')\n",
        "    return moves\n",
        "\n",
        "initial_state = ['D', 'C', 'B', 'A']\n",
        "goal_state = ['A', 'B', 'C', 'D']\n",
        "block_arrangement(initial_state, goal_state)"
      ]
    }
  ]
}